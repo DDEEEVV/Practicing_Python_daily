{
 "cells": [
  {
   "cell_type": "code",
   "execution_count": 6,
   "metadata": {},
   "outputs": [
    {
     "name": "stdout",
     "output_type": "stream",
     "text": [
      "[0, 1, 2, 3, 4, 5, 6, 7, 8, 9, 10, 11, 12, 13, 14, 15, 16, 17, 18, 19, 20, 21, 22, 23, 24, 25, 26, 27, 28, 29, 30, 31, 32, 33, 34, 35, 36, 37, 38, 39, 40]\n",
      "820\n"
     ]
    }
   ],
   "source": [
    "# Create a list of numbers 0 through 40 and assign this list to the variable numbers. \n",
    "# Then, accumulate the total of the list’s values and assign that sum to the variable sum1.\n",
    "numbers = list(range(0,41))\n",
    "sum1 = 0\n",
    "\n",
    "for i in numbers:\n",
    "    sum1 = sum1+i\n",
    "\n",
    "print(numbers)\n",
    "print(sum1)\n"
   ]
  },
  {
   "cell_type": "code",
   "execution_count": 6,
   "metadata": {},
   "outputs": [
    {
     "name": "stdout",
     "output_type": "stream",
     "text": [
      "[16, 17, 18, 19, 20, 21, 22, 23, 24, 25, 26, 27, 28, 29, 30, 31, 32, 33, 34, 35, 36, 37, 38, 39, 40, 41, 42, 43, 44, 45, 46, 47, 48, 49, 50, 51, 52]\n",
      "[51, 52]\n"
     ]
    }
   ],
   "source": [
    "lst = [0, 1, 2, 3, 4, 5, 6, 7, 8, 9, 10, 11, 12, 13, 14, 15, 16, 17, 18, 19, 20, 21, 22, 23, 24, 25, 26, 27, 28, 29, 30, 31, 32, 33, 34, 35, 36, 37, 38, 39, 40, 41, 42, 43, 44, 45, 46, 47, 48, 49, 50, 51, 52]\n",
    "\n",
    "gr = []\n",
    "\n",
    "j2 = [i for i in lst if i >15]\n",
    "\n",
    "print(j2)\n",
    "\n",
    "#or\n",
    "\n",
    "for i in lst:\n",
    "    if i >50:\n",
    "        gr.append(i)\n",
    "\n",
    "print(gr)\n"
   ]
  },
  {
   "cell_type": "code",
   "execution_count": 13,
   "metadata": {},
   "outputs": [
    {
     "name": "stdout",
     "output_type": "stream",
     "text": [
      "90\n"
     ]
    }
   ],
   "source": [
    "# Count the number of characters in string str1. Do not use len(). Save the number in variable numbs.\n",
    "\n",
    "str1 = \"I like nonsense, it wakes up the brain cells. Fantasy is a necessary ingredient in living.\"\n",
    "\n",
    "numbs = 0\n",
    "\n",
    "for char in str1:\n",
    "    numbs+=1 # or numbs=numbs+1\n",
    "print(numbs)\n",
    "\n"
   ]
  },
  {
   "cell_type": "code",
   "execution_count": 14,
   "metadata": {},
   "outputs": [
    {
     "name": "stdout",
     "output_type": "stream",
     "text": [
      "[0, 1, 2, 3, 4, 5, 6, 7, 8, 9, 10, 11, 12, 13, 14, 15, 16, 17, 18, 19, 20, 21, 22, 23, 24, 25, 26, 27, 28, 29, 30, 31, 32, 33, 34, 35, 36, 37, 38, 39, 40, 41, 42, 43, 44, 45, 46, 47, 48, 49, 50, 51, 52]\n"
     ]
    }
   ],
   "source": [
    "# Write code to create a list of integers from 0 through 52 and assign that list to the variable numbers. \n",
    "# You should use the Python range function and don’t forget to covert the result to a list – do not type out the whole list yourself.\n",
    "\n",
    "numbers = list(range(0,53))\n",
    "\n",
    "print(numbers)"
   ]
  },
  {
   "cell_type": "code",
   "execution_count": 20,
   "metadata": {},
   "outputs": [
    {
     "name": "stdout",
     "output_type": "stream",
     "text": [
      "1\n",
      "3\n"
     ]
    }
   ],
   "source": [
    "n = int(input(\"How many odd numbers would you like to add together?\"))\n",
    "\n",
    "sum = 0\n",
    "odd_number = 1\n",
    "\n",
    "for counter in range (n):\n",
    "    sum = sum + odd_number\n",
    "    odd_number = odd_number + 2\n",
    "\n",
    "print(sum)\n",
    "print(odd_number)"
   ]
  },
  {
   "cell_type": "code",
   "execution_count": 24,
   "metadata": {},
   "outputs": [
    {
     "name": "stdout",
     "output_type": "stream",
     "text": [
      "I!\n"
     ]
    }
   ],
   "source": [
    "item = [\"M\", \"I\", \"S\", \"S\", \"O\", \"U\", \"R\", \"I\"]\n",
    "for val in item:\n",
    "    val = val + \"!\"\n",
    "\n",
    "print(val)"
   ]
  },
  {
   "cell_type": "code",
   "execution_count": 2,
   "metadata": {},
   "outputs": [
    {
     "name": "stdout",
     "output_type": "stream",
     "text": [
      "37\n"
     ]
    }
   ],
   "source": [
    "# addition_str is a string with a list of numbers separated by the + sign. \n",
    "# Write code that uses the accumulation pattern to take the sum of all of the numbers and assigns it to sum_val (an integer). (You should use the .split(\"+\") function to split by \"+\" and int() to cast to an integer)\n",
    "\n",
    "addition_str = \"2+5+10+20\"\n",
    "\n",
    "spl = addition_str.split(\"+\")\n",
    "new_lst = [int(i) for i in spl] \n",
    "sum_val = sum(new_lst)\n",
    "\n",
    "print(sum_val)"
   ]
  },
  {
   "cell_type": "code",
   "execution_count": 3,
   "metadata": {},
   "outputs": [
    {
     "name": "stdout",
     "output_type": "stream",
     "text": [
      "80.67142857142858\n"
     ]
    }
   ],
   "source": [
    "# week_temps_f is a string with a list of fahrenheit temperatures separated by the , sign. \n",
    "# Write code that uses the accumulation pattern to compute the average (sum divided by number of items) and assigns it to avg_temp. \n",
    "# Do not hard code your answer (i.e., make your code compute both the sum or the number of items in week_temps_f) (You should use the .split(\",\") function to split by \",\" and float() to cast to a float).\n",
    "\n",
    "week_temps_f = \"75.1,77.7,83.2,82.5,81.0,79.5,85.7\"\n",
    "spl1 = week_temps_f.split(\",\")\n",
    "new_weekly_temps = [float(i) for i in spl1]\n",
    "avg_tem = sum(new_weekly_temps)/len(new_weekly_temps)\n",
    "\n",
    "print(avg_tem)\n",
    "\n"
   ]
  },
  {
   "cell_type": "code",
   "execution_count": 22,
   "metadata": {},
   "outputs": [
    {
     "name": "stdout",
     "output_type": "stream",
     "text": [
      "[3, 5, 5, 5, 6, 4, 3, 9, 4, 3]\n"
     ]
    }
   ],
   "source": [
    "# Write code to create a list of word lengths for the words in original_str using the accumulation pattern and assign the answer to a variable num_words_list. (You should use the len function).\n",
    "\n",
    "original_str = \"The quick brown rhino jumped over the extremely lazy fox\"\n",
    "\n",
    "original_list = list(original_str.split())\n",
    "\n",
    "num_words = len(original_list)\n",
    "num_words_list = []\n",
    "\n",
    "for i in original_list:\n",
    "    num_words_list.append((len(i)))\n",
    "\n",
    "print(num_words_list)\n",
    "\n",
    "\n"
   ]
  },
  {
   "cell_type": "code",
   "execution_count": 23,
   "metadata": {},
   "outputs": [
    {
     "name": "stdout",
     "output_type": "stream",
     "text": [
      "bbbbbbb "
     ]
    }
   ],
   "source": [
    "# Create an empty string and assign it to the variable lett. Then using range, write code such that when your code is run, lett has 7 b’s (\"bbbbbbb\").\n",
    "lett = ''\n",
    "for i in range(7):\n",
    "    lett =lett+ 'b'\n",
    "print(lett, end=' ')"
   ]
  },
  {
   "cell_type": "code",
   "execution_count": 24,
   "metadata": {},
   "outputs": [
    {
     "name": "stdout",
     "output_type": "stream",
     "text": [
      "Score 66.0 gets a grade of D\n"
     ]
    }
   ],
   "source": [
    "sc = input(\"Enter a score from 0 to 100 (decimal points are allowed)\")\n",
    "fl_sc = float(sc)\n",
    "\n",
    "if fl_sc < 60:\n",
    "    gr = \"F\"\n",
    "elif fl_sc < 70:\n",
    "    gr = \"D\"\n",
    "elif fl_sc < 80:\n",
    "    gr = \"C\"\n",
    "elif fl_sc < 90:\n",
    "    gr = \"B\"\n",
    "else:\n",
    "    gr = \"A\"\n",
    "\n",
    "print(\"Score\", fl_sc, \"gets a grade of\", gr)\n"
   ]
  },
  {
   "cell_type": "code",
   "execution_count": 26,
   "metadata": {},
   "outputs": [
    {
     "name": "stdout",
     "output_type": "stream",
     "text": [
      "True\n"
     ]
    }
   ],
   "source": [
    "# A year is a leap year if it is divisible by 4; however, if the year can be evenly divided by 100, it is NOT a leap year, unless the year is also evenly divisible by 400 then it is a leap year. Write code that asks the user to input a year and output True if it’s a leap year, or False otherwise. Use if statements.\n",
    "\n",
    "def is_leap(year):\n",
    "    leap = False\n",
    "    \n",
    "    # Write your logic here\n",
    "    if year%400==0 :\n",
    "        leap = True\n",
    "    elif year%4 == 0 and year%100 != 0:\n",
    "        leap = True\n",
    "    return leap\n",
    "\n",
    "year = int(input())\n",
    "print(is_leap(year))"
   ]
  },
  {
   "cell_type": "code",
   "execution_count": 12,
   "metadata": {},
   "outputs": [
    {
     "name": "stdout",
     "output_type": "stream",
     "text": [
      "Number of rainy months: 5\n"
     ]
    }
   ],
   "source": [
    "# rainfall_mi is a string that contains the average number of inches of rainfall in Michigan for every month (in inches) with every month separated by a comma.\n",
    "# Write code to compute the number of months that have more than 3 inches of rainfall.\n",
    "# Store the result in the variable num_rainy_months. In other words, count the number of items with values > 3.0.\n",
    "\n",
    "rainfall_mi = \"1.65, 1.46, 2.05, 3.03, 3.35, 3.46, 2.83, 3.23, 3.5, 2.52, 2.8, 1.85\"\n",
    "splt = rainfall_mi.split(\",\")\n",
    "rainfall_mi_lst = [float(i) for i in splt]\n",
    "num_rainy_months = 0\n",
    "\n",
    "for i in rainfall_mi_lst:\n",
    "    if i > 3.0:\n",
    "        num_rainy_months += 1\n",
    "        \n",
    "print(\"Number of rainy months:\", num_rainy_months)"
   ]
  },
  {
   "cell_type": "code",
   "execution_count": 6,
   "metadata": {},
   "outputs": [
    {
     "name": "stdout",
     "output_type": "stream",
     "text": [
      "2\n",
      "['students', 'flock', 'to', 'the', 'arb', 'for', 'a', 'variety', 'of', 'outdoor', 'activities', 'such', 'as', 'jogging', 'and', 'picnicking']\n"
     ]
    }
   ],
   "source": [
    "#The variable sentence stores a string. \n",
    "# Write code to determine how many words in sentence start and end with the same letter, including one-letter words. \n",
    "# Store the result in the variable same_letter_count.\n",
    "\n",
    "sentence = \"students flock to the arb for a variety of outdoor activities such as jogging and picnicking\"\n",
    "\n",
    "# Write your code here.\n",
    "same_letter_count = 0\n",
    "splt_words = list(sentence.split())\n",
    "for words in splt_words:\n",
    "    if words[0] == words[-1]:\n",
    "        same_letter_count +=1\n",
    "        \n",
    "print(same_letter_count)\n",
    "print(splt_words)"
   ]
  },
  {
   "cell_type": "code",
   "execution_count": 2,
   "metadata": {},
   "outputs": [
    {
     "name": "stdout",
     "output_type": "stream",
     "text": [
      "Number of words that contain a w : 4\n"
     ]
    }
   ],
   "source": [
    "#Write code to count the number of strings in list items that have the character w in it. \n",
    "# Assign that number to the variable acc_num.\n",
    "\n",
    "items = [\"whirring\", \"wow!\", \"calendar\", \"wry\", \"glass\", \"\", \"llama\",\"tumultuous\",\"owing\"]\n",
    "acc_num = 0\n",
    "\n",
    "for item in items:\n",
    "    if 'w' in item :\n",
    "        acc_num +=1\n",
    "        \n",
    "print(\"Number of words that contain a w :\", acc_num)"
   ]
  },
  {
   "cell_type": "code",
   "execution_count": 5,
   "metadata": {},
   "outputs": [
    {
     "name": "stdout",
     "output_type": "stream",
     "text": [
      "Number of words in the sentence that have a or e is:  14\n"
     ]
    }
   ],
   "source": [
    "#Write code that counts the number of words in sentence that contain either an “a” or an “e”. \n",
    "# Store the result in the variable num_a_or_e.\n",
    "\n",
    "sentence = \"python is a high level general purpose programming language that can be applied to many different classes of problems.\"\n",
    "words = list(sentence.split())\n",
    "num_a_or_e = 0\n",
    "\n",
    "for word in words:\n",
    "    if ('a' in word) or ('e' in word):\n",
    "        num_a_or_e +=1\n",
    "        \n",
    "print(\"Number of words in the sentence that have a or e is: \", num_a_or_e)\n"
   ]
  },
  {
   "cell_type": "code",
   "execution_count": 14,
   "metadata": {},
   "outputs": [
    {
     "name": "stdout",
     "output_type": "stream",
     "text": [
      "Number of vowels in each word in the sentence is:  32\n"
     ]
    }
   ],
   "source": [
    "#Write code that will count the number of vowels in the sentence s and assign the result to the variable num_vowels. \n",
    "# For this problem, vowels are only a, e, i, o, and u. Hint: use the in operator with vowels.\n",
    "\n",
    "s = \"singing in the rain and playing in the rain are two entirely different situations but both can be fun\"\n",
    "vowels = ['a','e','i','o','u']\n",
    "\n",
    "num_vowels=0\n",
    "\n",
    "for i in s:\n",
    "    if i in vowels:\n",
    "        num_vowels += 1\n",
    "        \n",
    "print(\"Number of vowels in each word in the sentence is: \", num_vowels)"
   ]
  },
  {
   "cell_type": "code",
   "execution_count": 17,
   "metadata": {},
   "outputs": [
    {
     "name": "stdout",
     "output_type": "stream",
     "text": [
      "$90.00 discounted by 9.0% is $81.90.\n"
     ]
    }
   ],
   "source": [
    "#Calculating the discounted price:\n",
    "\n",
    "origPrice = float(input('Enter the original price: $'))\n",
    "discount = float(input('Enter discount percentage: '))\n",
    "newPrice = (1 - discount/100)*origPrice\n",
    "calculation = '${:.2f} discounted by {}% is ${:.2f}.'.format(origPrice, discount, newPrice)\n",
    "print(calculation)"
   ]
  },
  {
   "cell_type": "code",
   "execution_count": 18,
   "metadata": {},
   "outputs": [
    {
     "name": "stdout",
     "output_type": "stream",
     "text": [
      "[9, 25, 64]\n"
     ]
    }
   ],
   "source": [
    "nums = [3, 5, 8]\n",
    "accum = []\n",
    "for w in nums:\n",
    "    x = w**2\n",
    "    accum.append(x)\n",
    "print(accum)"
   ]
  },
  {
   "cell_type": "code",
   "execution_count": 19,
   "metadata": {},
   "outputs": [
    {
     "name": "stdout",
     "output_type": "stream",
     "text": [
      "['kayaking', 'crying', 'walking', 'eating', 'drinking', 'flying']\n"
     ]
    }
   ],
   "source": [
    "verbs = [\"kayak\", \"cry\", \"walk\", \"eat\", \"drink\", \"fly\"]\n",
    "ing = []\n",
    "for i in verbs:\n",
    "    ing.append( i +\"ing\")\n",
    "print(ing)"
   ]
  },
  {
   "cell_type": "code",
   "execution_count": 22,
   "metadata": {},
   "outputs": [
    {
     "name": "stdout",
     "output_type": "stream",
     "text": [
      "[10, 15, 20, 25, 30]\n"
     ]
    }
   ],
   "source": [
    "# Given the list of numbers, numbs, modify the list numbs so that each of the original numbers are increased by 5.\n",
    "\n",
    "numbs = [5, 10, 15, 20, 25]\n",
    "x=0\n",
    "\n",
    "for i in numbs:\n",
    "    numbs[x]=i+5\n",
    "    x+=1\n",
    "print(numbs)"
   ]
  },
  {
   "cell_type": "code",
   "execution_count": 24,
   "metadata": {},
   "outputs": [
    {
     "name": "stdout",
     "output_type": "stream",
     "text": [
      "['cricket', 'football', 'horseback riding', 'volleyball', 'baseball', 'softball', 'track and field', 'curling', 'ping pong', 'hockey']\n",
      "['Beirut', 'Milan', 'Pittsburgh', 'Buenos Aires', 'Nairobi', 'Kathmandu', 'Osaka', 'Melbourne']\n",
      "['Beirut', 'Milan', 'Pittsburgh', 'Buenos Aires', 'Nairobi', 'Kathmandu', 'Osaka', 'Melbourne', 'Guadalajara']\n",
      "['Alice Munro', 'Alvin E. Roth', 'Kazuo Ishiguro', 'Malala Yousafzai', 'Rainer Weiss', 'Youyou Tu']\n",
      "['p', 'y', 't', 'h', 'o', 'n', '!']\n",
      "['ended', 'worked', 'played', 'started', 'walked', 'looked', 'opened', 'rained', 'learned', 'cleaned']\n"
     ]
    }
   ],
   "source": [
    "# 1. Write code to add ‘horseback riding’ to the third position (i.e., right before volleyball) in the list sports.\n",
    "\n",
    "sports = ['cricket', 'football', 'volleyball', 'baseball', 'softball', 'track and field', 'curling', 'ping pong', 'hockey']\n",
    "sports.insert(2, 'horseback riding')\n",
    "print(sports)\n",
    "\n",
    "# 2. Write code to take ‘London’ out of the list trav_dest.\n",
    "\n",
    "trav_dest = ['Beirut', 'Milan', 'Pittsburgh', 'Buenos Aires', 'Nairobi', 'Kathmandu', 'Osaka', 'London', 'Melbourne']\n",
    "trav_dest.pop(7)\n",
    "print(trav_dest)\n",
    "\n",
    "# 3. Write code to add ‘Guadalajara’ to the end of the list trav_dest using a list method.\n",
    "\n",
    "trav_dest = ['Beirut', 'Milan', 'Pittsburgh', 'Buenos Aires', 'Nairobi', 'Kathmandu', 'Osaka', 'Melbourne']\n",
    "trav_dest.append('Guadalajara')\n",
    "print(trav_dest)\n",
    "\n",
    "# 4. Write code to rearrange the strings in the list winners so that they are in alphabetical order from A to Z.\n",
    "\n",
    "winners = ['Kazuo Ishiguro', 'Rainer Weiss', 'Youyou Tu', 'Malala Yousafzai', 'Alice Munro', 'Alvin E. Roth']\n",
    "winners.sort()\n",
    "print(winners)\n",
    "\n",
    "# 5. For each character in the string saved in ael, append that character to a list that should be saved in a variable app.\n",
    "\n",
    "ael = \"python!\"\n",
    "app = []\n",
    "for w in ael:\n",
    "    app.append(w)\n",
    "print(app)\n",
    "\n",
    "# 6. For each string in wrds, add ‘ed’ to the end of the word (to make the word past tense).\n",
    "# Save these past tense words to a list called past_wrds.\n",
    "\n",
    "words = [\"end\", 'work', \"play\", \"start\", \"walk\", \"look\", \"open\", \"rain\", \"learn\", \"clean\"]\n",
    "\n",
    "past_words = [word + \"ed\" for word in wrds]\n",
    "print(past_words)"
   ]
  },
  {
   "cell_type": "code",
   "execution_count": 35,
   "metadata": {},
   "outputs": [
    {
     "name": "stdout",
     "output_type": "stream",
     "text": [
      "10\n"
     ]
    }
   ],
   "source": [
    "scores = \"67 80 90 78 93 20 79 89 96 97 92 88 79 68 58 90 98 100 79 74 83 88 80 86 85 70 90 100\"\n",
    "lst = list(scores.split())\n",
    "string_lst = [int(i) for i in lst]\n",
    "a_scores = 0\n",
    "\n",
    "for i in string_lst:\n",
    "    if i >= 90:\n",
    "        a_scores+=1\n",
    "print(a_scores)"
   ]
  },
  {
   "cell_type": "code",
   "execution_count": 37,
   "metadata": {},
   "outputs": [
    {
     "name": "stdout",
     "output_type": "stream",
     "text": [
      "OHSE\n"
     ]
    }
   ],
   "source": [
    "stopwords = ['to', 'a', 'for', 'by', 'an', 'am', 'the', 'so', 'it', 'and', \"The\"]\n",
    "org = \"The organization for health, safety, and education\"\n",
    "\n",
    "acro = \"\"\n",
    "lst = org.split()\n",
    "\n",
    "for i in lst:\n",
    "    if i in stopwords:\n",
    "        lst.remove(i)\n",
    "\n",
    "for j in lst:\n",
    "    acro += j[0]\n",
    "\n",
    "acro = acro.upper()\n",
    "\n",
    "print(acro)\n",
    "\n"
   ]
  },
  {
   "cell_type": "code",
   "execution_count": 38,
   "metadata": {},
   "outputs": [
    {
     "name": "stdout",
     "output_type": "stream",
     "text": [
      "WA. EA. AI. AR. VI\n"
     ]
    }
   ],
   "source": [
    "stopwords = ['to', 'a', 'for', 'by', 'an', 'am', 'the', 'so', 'it', 'and', 'The']\n",
    "sent = \"The water earth and air are vital\"\n",
    "\n",
    "acro =\"\"\n",
    "lst = sent.split()\n",
    "\n",
    "for i in lst:\n",
    "    if i in stopwords:\n",
    "        lst.remove(i)\n",
    "for g in lst:\n",
    "    acro = acro + g[0] + g[1]\n",
    "    if g != lst[-1]:\n",
    "        acro += \". \"\n",
    "acro = acro.upper()\n",
    "print(acro)\n"
   ]
  }
 ],
 "metadata": {
  "kernelspec": {
   "display_name": "Python 3.7.7 ('dev')",
   "language": "python",
   "name": "python3"
  },
  "language_info": {
   "codemirror_mode": {
    "name": "ipython",
    "version": 3
   },
   "file_extension": ".py",
   "mimetype": "text/x-python",
   "name": "python",
   "nbconvert_exporter": "python",
   "pygments_lexer": "ipython3",
   "version": "3.7.7"
  },
  "orig_nbformat": 4,
  "vscode": {
   "interpreter": {
    "hash": "4396f389b93e7269692bd3bea4c62813bbe379469bde939b058805f538feec11"
   }
  }
 },
 "nbformat": 4,
 "nbformat_minor": 2
}
