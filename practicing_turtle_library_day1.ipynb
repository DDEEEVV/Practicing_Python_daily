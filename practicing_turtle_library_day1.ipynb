{
 "cells": [
  {
   "cell_type": "code",
   "execution_count": 1,
   "metadata": {},
   "outputs": [],
   "source": [
    "import turtle\n",
    "import random"
   ]
  },
  {
   "cell_type": "code",
   "execution_count": 2,
   "metadata": {},
   "outputs": [],
   "source": [
    "# Drawing a psy star with Python Turtle\n",
    "wn = turtle.Screen()\n",
    "\n",
    "dev = turtle.Turtle()\n",
    "wn.bgcolor(\"black\")\n",
    "dev.pencolor(\"cyan\")\n",
    "dev.speed(120)\n",
    "\n",
    "def pic(var1):\n",
    "    for i in range (500):\n",
    "        dev.forward(i)\n",
    "        dev.right(var1)\n",
    "pic(132)  "
   ]
  },
  {
   "cell_type": "code",
   "execution_count": 1,
   "metadata": {},
   "outputs": [],
   "source": [
    "import turtle\n",
    "loadWindow = turtle.Screen()\n",
    "turtle.speed(200)\n",
    " \n",
    "for i in range(100):\n",
    "    turtle.circle(5*i)\n",
    "    turtle.circle(-5*i)\n",
    "    turtle.left(i)\n",
    " \n",
    "turtle.exitonclick()\n"
   ]
  },
  {
   "cell_type": "code",
   "execution_count": 1,
   "metadata": {},
   "outputs": [],
   "source": [
    "import turtle\n",
    "colors = ['red', 'purple', 'blue', 'green', 'orange', 'yellow']\n",
    "t = turtle.Pen()\n",
    "turtle.bgcolor('black')\n",
    "turtle.speed(2000)\n",
    "for x in range(360):\n",
    "    t.pencolor(colors[x%6])\n",
    "    t.width(x//100 + 1)\n",
    "    t.forward(x)\n",
    "    t.left(59)"
   ]
  },
  {
   "cell_type": "code",
   "execution_count": 1,
   "metadata": {},
   "outputs": [],
   "source": [
    "from turtle import *\n",
    "\n",
    "def fibonacci_sequence(n):\n",
    "    \"\"\"\n",
    "    Description\n",
    "    -----------\n",
    "    This function generates a sequence of numbers that is the sum of the two that precede it.\n",
    "    \n",
    "    Parameters\n",
    "    ----------\n",
    "    Next number generated: It is the sum of the last number with the second last one added to the sequence.\n",
    "\n",
    "    Example (Xn+2= Xn+1 + Xn)\n",
    "    --------\n",
    "    float = [0,2]\n",
    "    for i in range(3,n+1):\n",
    "        next_number = 4 + 6\n",
    "        float.append(next_number)\n",
    "    return float\n",
    "    \n",
    "    Returns\n",
    "    --------\n",
    "    Numeric - Sequence of numbers\n",
    "    \"[0,2,2,4,6,10,16...]\"\n",
    "    \"\"\"\n",
    "    sequence = [0,1]\n",
    "    for i in range(2,n+1):\n",
    "        next_num = sequence[-1] + sequence[-2]\n",
    "        sequence.append(next_num)\n",
    "    return sequence\n",
    "\n",
    "fibo_nr = fibonacci_sequence(11)  # Fibonacci numbers this could be calculated instead\n",
    "def draw_square(side_length):  # Function for drawing a square\n",
    "    for i in range(4):\n",
    "        forward(side_length)\n",
    "        right(90)\n",
    "nr_squares = len(fibo_nr)\n",
    "factor = 7  # Enlargement factor\n",
    "penup()\n",
    "goto(150, 150)  # Move starting point right and up\n",
    "pendown()\n",
    "for i in range(nr_squares):\n",
    "    draw_square(factor * fibo_nr[i])  # Draw square\n",
    "    penup()  # Move to new corner as starting point\n",
    "    forward(factor * fibo_nr[i])\n",
    "    right(90)\n",
    "    forward(factor * fibo_nr[i])\n",
    "    pendown()\n",
    "penup()\n",
    "goto(150, 150)  # Move to starting point\n",
    "setheading(0)  # Face the turtle to the right\n",
    "pencolor('red')\n",
    "pensize(7)\n",
    "pendown()\n",
    "# Draw quarter circles with fibonacci numbers as radius\n",
    "for i in range(nr_squares):\n",
    "    circle(-factor * fibo_nr[i], 90)  # minus sign to draw counterclockwise"
   ]
  }
 ],
 "metadata": {
  "kernelspec": {
   "display_name": "Python 3.7.7 ('dev')",
   "language": "python",
   "name": "python3"
  },
  "language_info": {
   "codemirror_mode": {
    "name": "ipython",
    "version": 3
   },
   "file_extension": ".py",
   "mimetype": "text/x-python",
   "name": "python",
   "nbconvert_exporter": "python",
   "pygments_lexer": "ipython3",
   "version": "3.7.7"
  },
  "orig_nbformat": 4,
  "vscode": {
   "interpreter": {
    "hash": "4396f389b93e7269692bd3bea4c62813bbe379469bde939b058805f538feec11"
   }
  }
 },
 "nbformat": 4,
 "nbformat_minor": 2
}
