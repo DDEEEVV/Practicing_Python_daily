{
 "cells": [
  {
   "cell_type": "code",
   "execution_count": 1,
   "metadata": {
    "collapsed": true
   },
   "outputs": [],
   "source": [
    "import pandas as pd\n",
    "import matplotlib.pyplot as plt\n",
    "%matplotlib inline\n",
    "from path import Path"
   ]
  },
  {
   "cell_type": "code",
   "execution_count": 5,
   "metadata": {
    "collapsed": true
   },
   "outputs": [],
   "source": [
    "fb = pd.read_csv(Path(\"../Practicing_Python_daily/data/facebook.csv\"))\n",
    "ms = pd.read_csv(Path(\"../Practicing_Python_daily/data/microsoft.csv\"))"
   ]
  },
  {
   "cell_type": "code",
   "execution_count": 15,
   "metadata": {},
   "outputs": [],
   "source": [
    "fb = fb.set_index(\"Date\")\n",
    "ms = ms.set_index(\"Date\")"
   ]
  },
  {
   "cell_type": "markdown",
   "metadata": {},
   "source": [
    "## Create a new column in the DataFrame (1) - Price difference"
   ]
  },
  {
   "cell_type": "code",
   "execution_count": 16,
   "metadata": {
    "collapsed": true
   },
   "outputs": [
    {
     "data": {
      "text/html": [
       "<div>\n",
       "<style scoped>\n",
       "    .dataframe tbody tr th:only-of-type {\n",
       "        vertical-align: middle;\n",
       "    }\n",
       "\n",
       "    .dataframe tbody tr th {\n",
       "        vertical-align: top;\n",
       "    }\n",
       "\n",
       "    .dataframe thead th {\n",
       "        text-align: right;\n",
       "    }\n",
       "</style>\n",
       "<table border=\"1\" class=\"dataframe\">\n",
       "  <thead>\n",
       "    <tr style=\"text-align: right;\">\n",
       "      <th></th>\n",
       "      <th>Open</th>\n",
       "      <th>High</th>\n",
       "      <th>Low</th>\n",
       "      <th>Close</th>\n",
       "      <th>Adj Close</th>\n",
       "      <th>Volume</th>\n",
       "      <th>PriceDiff</th>\n",
       "    </tr>\n",
       "    <tr>\n",
       "      <th>Date</th>\n",
       "      <th></th>\n",
       "      <th></th>\n",
       "      <th></th>\n",
       "      <th></th>\n",
       "      <th></th>\n",
       "      <th></th>\n",
       "      <th></th>\n",
       "    </tr>\n",
       "  </thead>\n",
       "  <tbody>\n",
       "    <tr>\n",
       "      <th>2014-12-31</th>\n",
       "      <td>20.400000</td>\n",
       "      <td>20.510000</td>\n",
       "      <td>19.990000</td>\n",
       "      <td>20.049999</td>\n",
       "      <td>19.459270</td>\n",
       "      <td>4157500</td>\n",
       "      <td>0.080000</td>\n",
       "    </tr>\n",
       "    <tr>\n",
       "      <th>2015-01-02</th>\n",
       "      <td>20.129999</td>\n",
       "      <td>20.280001</td>\n",
       "      <td>19.809999</td>\n",
       "      <td>20.129999</td>\n",
       "      <td>19.536913</td>\n",
       "      <td>2842000</td>\n",
       "      <td>-0.339998</td>\n",
       "    </tr>\n",
       "    <tr>\n",
       "      <th>2015-01-05</th>\n",
       "      <td>20.129999</td>\n",
       "      <td>20.190001</td>\n",
       "      <td>19.700001</td>\n",
       "      <td>19.790001</td>\n",
       "      <td>19.206934</td>\n",
       "      <td>4948800</td>\n",
       "      <td>-0.600000</td>\n",
       "    </tr>\n",
       "    <tr>\n",
       "      <th>2015-01-06</th>\n",
       "      <td>19.820000</td>\n",
       "      <td>19.840000</td>\n",
       "      <td>19.170000</td>\n",
       "      <td>19.190001</td>\n",
       "      <td>18.624611</td>\n",
       "      <td>4944100</td>\n",
       "      <td>-0.050002</td>\n",
       "    </tr>\n",
       "    <tr>\n",
       "      <th>2015-01-07</th>\n",
       "      <td>19.330000</td>\n",
       "      <td>19.500000</td>\n",
       "      <td>19.080000</td>\n",
       "      <td>19.139999</td>\n",
       "      <td>18.576082</td>\n",
       "      <td>8045200</td>\n",
       "      <td>0.720002</td>\n",
       "    </tr>\n",
       "    <tr>\n",
       "      <th>...</th>\n",
       "      <td>...</td>\n",
       "      <td>...</td>\n",
       "      <td>...</td>\n",
       "      <td>...</td>\n",
       "      <td>...</td>\n",
       "      <td>...</td>\n",
       "      <td>...</td>\n",
       "    </tr>\n",
       "    <tr>\n",
       "      <th>2018-01-30</th>\n",
       "      <td>241.110001</td>\n",
       "      <td>246.419998</td>\n",
       "      <td>238.410004</td>\n",
       "      <td>242.720001</td>\n",
       "      <td>242.720001</td>\n",
       "      <td>14270800</td>\n",
       "      <td>3.080002</td>\n",
       "    </tr>\n",
       "    <tr>\n",
       "      <th>2018-01-31</th>\n",
       "      <td>245.770004</td>\n",
       "      <td>249.270004</td>\n",
       "      <td>244.449997</td>\n",
       "      <td>245.800003</td>\n",
       "      <td>245.800003</td>\n",
       "      <td>11964400</td>\n",
       "      <td>-5.300003</td>\n",
       "    </tr>\n",
       "    <tr>\n",
       "      <th>2018-02-01</th>\n",
       "      <td>238.520004</td>\n",
       "      <td>246.899994</td>\n",
       "      <td>238.059998</td>\n",
       "      <td>240.500000</td>\n",
       "      <td>240.500000</td>\n",
       "      <td>12980600</td>\n",
       "      <td>-6.979996</td>\n",
       "    </tr>\n",
       "    <tr>\n",
       "      <th>2018-02-02</th>\n",
       "      <td>237.000000</td>\n",
       "      <td>237.970001</td>\n",
       "      <td>231.169998</td>\n",
       "      <td>233.520004</td>\n",
       "      <td>233.520004</td>\n",
       "      <td>17961600</td>\n",
       "      <td>-19.820007</td>\n",
       "    </tr>\n",
       "    <tr>\n",
       "      <th>2018-02-05</th>\n",
       "      <td>227.000000</td>\n",
       "      <td>233.229996</td>\n",
       "      <td>205.000000</td>\n",
       "      <td>213.699997</td>\n",
       "      <td>213.699997</td>\n",
       "      <td>28869000</td>\n",
       "      <td>NaN</td>\n",
       "    </tr>\n",
       "  </tbody>\n",
       "</table>\n",
       "<p>780 rows × 7 columns</p>\n",
       "</div>"
      ],
      "text/plain": [
       "                  Open        High         Low       Close   Adj Close  \\\n",
       "Date                                                                     \n",
       "2014-12-31   20.400000   20.510000   19.990000   20.049999   19.459270   \n",
       "2015-01-02   20.129999   20.280001   19.809999   20.129999   19.536913   \n",
       "2015-01-05   20.129999   20.190001   19.700001   19.790001   19.206934   \n",
       "2015-01-06   19.820000   19.840000   19.170000   19.190001   18.624611   \n",
       "2015-01-07   19.330000   19.500000   19.080000   19.139999   18.576082   \n",
       "...                ...         ...         ...         ...         ...   \n",
       "2018-01-30  241.110001  246.419998  238.410004  242.720001  242.720001   \n",
       "2018-01-31  245.770004  249.270004  244.449997  245.800003  245.800003   \n",
       "2018-02-01  238.520004  246.899994  238.059998  240.500000  240.500000   \n",
       "2018-02-02  237.000000  237.970001  231.169998  233.520004  233.520004   \n",
       "2018-02-05  227.000000  233.229996  205.000000  213.699997  213.699997   \n",
       "\n",
       "              Volume  PriceDiff  \n",
       "Date                             \n",
       "2014-12-31   4157500   0.080000  \n",
       "2015-01-02   2842000  -0.339998  \n",
       "2015-01-05   4948800  -0.600000  \n",
       "2015-01-06   4944100  -0.050002  \n",
       "2015-01-07   8045200   0.720002  \n",
       "...              ...        ...  \n",
       "2018-01-30  14270800   3.080002  \n",
       "2018-01-31  11964400  -5.300003  \n",
       "2018-02-01  12980600  -6.979996  \n",
       "2018-02-02  17961600 -19.820007  \n",
       "2018-02-05  28869000        NaN  \n",
       "\n",
       "[780 rows x 7 columns]"
      ]
     },
     "execution_count": 16,
     "metadata": {},
     "output_type": "execute_result"
    }
   ],
   "source": [
    "#Create a new column PriceDiff in the DataFrame fb\n",
    "fb['PriceDiff'] = fb['Close'].shift(-1) - fb['Close']\n",
    "\n",
    "fb"
   ]
  },
  {
   "cell_type": "code",
   "execution_count": 17,
   "metadata": {
    "collapsed": true
   },
   "outputs": [
    {
     "data": {
      "text/html": [
       "<div>\n",
       "<style scoped>\n",
       "    .dataframe tbody tr th:only-of-type {\n",
       "        vertical-align: middle;\n",
       "    }\n",
       "\n",
       "    .dataframe tbody tr th {\n",
       "        vertical-align: top;\n",
       "    }\n",
       "\n",
       "    .dataframe thead th {\n",
       "        text-align: right;\n",
       "    }\n",
       "</style>\n",
       "<table border=\"1\" class=\"dataframe\">\n",
       "  <thead>\n",
       "    <tr style=\"text-align: right;\">\n",
       "      <th></th>\n",
       "      <th>Open</th>\n",
       "      <th>High</th>\n",
       "      <th>Low</th>\n",
       "      <th>Close</th>\n",
       "      <th>Adj Close</th>\n",
       "      <th>Volume</th>\n",
       "      <th>PriceDiff</th>\n",
       "    </tr>\n",
       "    <tr>\n",
       "      <th>Date</th>\n",
       "      <th></th>\n",
       "      <th></th>\n",
       "      <th></th>\n",
       "      <th></th>\n",
       "      <th></th>\n",
       "      <th></th>\n",
       "      <th></th>\n",
       "    </tr>\n",
       "  </thead>\n",
       "  <tbody>\n",
       "    <tr>\n",
       "      <th>2014-12-31</th>\n",
       "      <td>46.730000</td>\n",
       "      <td>47.439999</td>\n",
       "      <td>46.450001</td>\n",
       "      <td>46.450001</td>\n",
       "      <td>42.848763</td>\n",
       "      <td>21552500</td>\n",
       "      <td>0.309997</td>\n",
       "    </tr>\n",
       "    <tr>\n",
       "      <th>2015-01-02</th>\n",
       "      <td>46.660000</td>\n",
       "      <td>47.419998</td>\n",
       "      <td>46.540001</td>\n",
       "      <td>46.759998</td>\n",
       "      <td>43.134731</td>\n",
       "      <td>27913900</td>\n",
       "      <td>-0.429996</td>\n",
       "    </tr>\n",
       "    <tr>\n",
       "      <th>2015-01-05</th>\n",
       "      <td>46.369999</td>\n",
       "      <td>46.730000</td>\n",
       "      <td>46.250000</td>\n",
       "      <td>46.330002</td>\n",
       "      <td>42.738068</td>\n",
       "      <td>39673900</td>\n",
       "      <td>-0.680000</td>\n",
       "    </tr>\n",
       "    <tr>\n",
       "      <th>2015-01-06</th>\n",
       "      <td>46.380001</td>\n",
       "      <td>46.750000</td>\n",
       "      <td>45.540001</td>\n",
       "      <td>45.650002</td>\n",
       "      <td>42.110783</td>\n",
       "      <td>36447900</td>\n",
       "      <td>0.579998</td>\n",
       "    </tr>\n",
       "    <tr>\n",
       "      <th>2015-01-07</th>\n",
       "      <td>45.980000</td>\n",
       "      <td>46.459999</td>\n",
       "      <td>45.490002</td>\n",
       "      <td>46.230000</td>\n",
       "      <td>42.645817</td>\n",
       "      <td>29114100</td>\n",
       "      <td>1.360000</td>\n",
       "    </tr>\n",
       "    <tr>\n",
       "      <th>...</th>\n",
       "      <td>...</td>\n",
       "      <td>...</td>\n",
       "      <td>...</td>\n",
       "      <td>...</td>\n",
       "      <td>...</td>\n",
       "      <td>...</td>\n",
       "      <td>...</td>\n",
       "    </tr>\n",
       "    <tr>\n",
       "      <th>2018-01-30</th>\n",
       "      <td>93.300003</td>\n",
       "      <td>93.660004</td>\n",
       "      <td>92.099998</td>\n",
       "      <td>92.739998</td>\n",
       "      <td>92.306389</td>\n",
       "      <td>38635100</td>\n",
       "      <td>2.270004</td>\n",
       "    </tr>\n",
       "    <tr>\n",
       "      <th>2018-01-31</th>\n",
       "      <td>93.750000</td>\n",
       "      <td>95.400002</td>\n",
       "      <td>93.510002</td>\n",
       "      <td>95.010002</td>\n",
       "      <td>94.565781</td>\n",
       "      <td>48756300</td>\n",
       "      <td>-0.750000</td>\n",
       "    </tr>\n",
       "    <tr>\n",
       "      <th>2018-02-01</th>\n",
       "      <td>94.790001</td>\n",
       "      <td>96.070000</td>\n",
       "      <td>93.580002</td>\n",
       "      <td>94.260002</td>\n",
       "      <td>93.819290</td>\n",
       "      <td>47227900</td>\n",
       "      <td>-2.480003</td>\n",
       "    </tr>\n",
       "    <tr>\n",
       "      <th>2018-02-02</th>\n",
       "      <td>93.639999</td>\n",
       "      <td>93.970001</td>\n",
       "      <td>91.500000</td>\n",
       "      <td>91.779999</td>\n",
       "      <td>91.350883</td>\n",
       "      <td>47867800</td>\n",
       "      <td>-3.779999</td>\n",
       "    </tr>\n",
       "    <tr>\n",
       "      <th>2018-02-05</th>\n",
       "      <td>90.559998</td>\n",
       "      <td>93.239998</td>\n",
       "      <td>88.000000</td>\n",
       "      <td>88.000000</td>\n",
       "      <td>87.588554</td>\n",
       "      <td>51031500</td>\n",
       "      <td>NaN</td>\n",
       "    </tr>\n",
       "  </tbody>\n",
       "</table>\n",
       "<p>780 rows × 7 columns</p>\n",
       "</div>"
      ],
      "text/plain": [
       "                 Open       High        Low      Close  Adj Close    Volume  \\\n",
       "Date                                                                          \n",
       "2014-12-31  46.730000  47.439999  46.450001  46.450001  42.848763  21552500   \n",
       "2015-01-02  46.660000  47.419998  46.540001  46.759998  43.134731  27913900   \n",
       "2015-01-05  46.369999  46.730000  46.250000  46.330002  42.738068  39673900   \n",
       "2015-01-06  46.380001  46.750000  45.540001  45.650002  42.110783  36447900   \n",
       "2015-01-07  45.980000  46.459999  45.490002  46.230000  42.645817  29114100   \n",
       "...               ...        ...        ...        ...        ...       ...   \n",
       "2018-01-30  93.300003  93.660004  92.099998  92.739998  92.306389  38635100   \n",
       "2018-01-31  93.750000  95.400002  93.510002  95.010002  94.565781  48756300   \n",
       "2018-02-01  94.790001  96.070000  93.580002  94.260002  93.819290  47227900   \n",
       "2018-02-02  93.639999  93.970001  91.500000  91.779999  91.350883  47867800   \n",
       "2018-02-05  90.559998  93.239998  88.000000  88.000000  87.588554  51031500   \n",
       "\n",
       "            PriceDiff  \n",
       "Date                   \n",
       "2014-12-31   0.309997  \n",
       "2015-01-02  -0.429996  \n",
       "2015-01-05  -0.680000  \n",
       "2015-01-06   0.579998  \n",
       "2015-01-07   1.360000  \n",
       "...               ...  \n",
       "2018-01-30   2.270004  \n",
       "2018-01-31  -0.750000  \n",
       "2018-02-01  -2.480003  \n",
       "2018-02-02  -3.779999  \n",
       "2018-02-05        NaN  \n",
       "\n",
       "[780 rows x 7 columns]"
      ]
     },
     "execution_count": 17,
     "metadata": {},
     "output_type": "execute_result"
    }
   ],
   "source": [
    "#Create a new column PriceDiff in the DataFrame ms\n",
    "ms['PriceDiff'] = ms['Close'].shift(-1) - ms['Close']\n",
    "\n",
    "ms\n"
   ]
  },
  {
   "cell_type": "code",
   "execution_count": 18,
   "metadata": {
    "collapsed": true
   },
   "outputs": [
    {
     "name": "stdout",
     "output_type": "stream",
     "text": [
      "-0.6799999999999997\n"
     ]
    }
   ],
   "source": [
    "#Run this code to display the price difference of Microsoft on 2015-01-05\n",
    "print(ms['PriceDiff'].loc['2015-01-05'])"
   ]
  },
  {
   "cell_type": "markdown",
   "metadata": {},
   "source": [
    "** Expected Output: ** -0.68"
   ]
  },
  {
   "cell_type": "markdown",
   "metadata": {},
   "source": [
    "## Create a new column in the DataFrame (2) - Daily return\n",
    "\n",
    "Daily Return is calcuated as PriceDiff/Close"
   ]
  },
  {
   "cell_type": "code",
   "execution_count": 20,
   "metadata": {
    "collapsed": true
   },
   "outputs": [],
   "source": [
    "#Create a new column Return in the DataFrame fb\n",
    "\n",
    "fb['Return'] = fb['PriceDiff'] /fb['Close']"
   ]
  },
  {
   "cell_type": "code",
   "execution_count": 21,
   "metadata": {
    "collapsed": true
   },
   "outputs": [],
   "source": [
    "#Create a new column Return in the DataFrame ms\n",
    "\n",
    "ms['Return'] = ms['PriceDiff'] /ms['Close']"
   ]
  },
  {
   "cell_type": "code",
   "execution_count": 22,
   "metadata": {
    "collapsed": true
   },
   "outputs": [
    {
     "name": "stdout",
     "output_type": "stream",
     "text": [
      "-0.014677314281143345\n"
     ]
    }
   ],
   "source": [
    "#Run this code to print the return on 2015-01-05\n",
    "print(ms['Return'].loc['2015-01-05'])"
   ]
  },
  {
   "cell_type": "markdown",
   "metadata": {},
   "source": [
    "** Expected Output: ** -0.0146773142811"
   ]
  },
  {
   "cell_type": "markdown",
   "metadata": {},
   "source": [
    "## Create a new column in the DataFrame using List Comprehension - Direction"
   ]
  },
  {
   "cell_type": "code",
   "execution_count": 23,
   "metadata": {
    "collapsed": true
   },
   "outputs": [],
   "source": [
    "#Create a new column Direction. \n",
    "#The List Comprehension means : if the price difference is larger than 0, denote as 1, otherwise, denote as 0,\n",
    "#for every record in the DataFrame - fb\n",
    "\n",
    "fb['Direction'] = [1 if fb['PriceDiff'].loc[ei] > 0 else 0 for ei in fb.index ]"
   ]
  },
  {
   "cell_type": "code",
   "execution_count": 24,
   "metadata": {
    "collapsed": true
   },
   "outputs": [],
   "source": [
    "# Create a new column Direction for MS\n",
    "\n",
    "ms['Direction'] = [1 if ms['PriceDiff'].loc[ei] > 0 else 0 for ei in ms.index ]"
   ]
  },
  {
   "cell_type": "code",
   "execution_count": 25,
   "metadata": {
    "collapsed": true
   },
   "outputs": [
    {
     "name": "stdout",
     "output_type": "stream",
     "text": [
      "Price difference on 2015-01-05 is -0.6799999999999997. direction is 0\n"
     ]
    }
   ],
   "source": [
    "# Run the following code to show the price difference on 2015-01-05\n",
    "print('Price difference on {} is {}. direction is {}'.format('2015-01-05', ms['PriceDiff'].loc['2015-01-05'], ms['Direction'].loc['2015-01-05']))"
   ]
  },
  {
   "cell_type": "markdown",
   "metadata": {},
   "source": [
    "** Expected Output: ** Price difference on 2015-01-05 is -0.6799999999999997. direction is 0"
   ]
  },
  {
   "cell_type": "markdown",
   "metadata": {},
   "source": [
    "## Create a new column in the DataFrame using Rolling Window calculation (.rolling()) - Moving average"
   ]
  },
  {
   "cell_type": "code",
   "execution_count": 26,
   "metadata": {
    "collapsed": true
   },
   "outputs": [
    {
     "data": {
      "image/png": "[encoded data removed]",
      "text/plain": [
       "<Figure size 720x576 with 1 Axes>"
      ]
     },
     "metadata": {
      "needs_background": "light"
     },
     "output_type": "display_data"
    }
   ],
   "source": [
    "fb['ma50'] = fb['Close'].rolling(50).mean()\n",
    "\n",
    "#plot the moving average\n",
    "plt.figure(figsize=(10, 8))\n",
    "fb['ma50'].loc['2015-01-01':'2015-12-31'].plot(label='MA50')\n",
    "fb['Close'].loc['2015-01-01':'2015-12-31'].plot(label='Close')\n",
    "plt.legend()\n",
    "plt.show()"
   ]
  },
  {
   "cell_type": "code",
   "execution_count": 28,
   "metadata": {
    "collapsed": true
   },
   "outputs": [
    {
     "data": {
      "image/png": "[encoded data removed]",
      "text/plain": [
       "<Figure size 720x576 with 1 Axes>"
      ]
     },
     "metadata": {
      "needs_background": "light"
     },
     "output_type": "display_data"
    }
   ],
   "source": [
    "# You can use .rolling() to calculate any numbers of days' Moving Average. This is your turn to calculate \"60 days\"\n",
    "# moving average of Microsoft, rename it as \"ma60\". And follow the codes above in plotting a graph\n",
    "\n",
    "ms['ma60'] = ms['Close'].rolling(60).mean()\n",
    "\n",
    "#plot the moving average\n",
    "plt.figure(figsize=(10, 8))\n",
    "ms['ma60'].loc['2015-01-01':'2015-12-31'].plot(label='MA60')\n",
    "ms['Close'].loc['2015-01-01':'2015-12-31'].plot(label='Close')\n",
    "plt.legend()\n",
    "plt.show()"
   ]
  }
 ],
 "metadata": {
  "kernelspec": {
   "display_name": "Python 3.7.7 ('dev')",
   "language": "python",
   "name": "python3"
  },
  "language_info": {
   "codemirror_mode": {
    "name": "ipython",
    "version": 3
   },
   "file_extension": ".py",
   "mimetype": "text/x-python",
   "name": "python",
   "nbconvert_exporter": "python",
   "pygments_lexer": "ipython3",
   "version": "3.7.7"
  },
  "vscode": {
   "interpreter": {
    "hash": "4396f389b93e7269692bd3bea4c62813bbe379469bde939b058805f538feec11"
   }
  }
 },
 "nbformat": 4,
 "nbformat_minor": 2
}
